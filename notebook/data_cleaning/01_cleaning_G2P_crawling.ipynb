{
 "cells": [
  {
   "attachments": {},
   "cell_type": "markdown",
   "metadata": {},
   "source": [
    "## Data Cleansing을 해보자!\n",
    "0. 환경설정, 데이터 불러오기\n",
    "1. 크롤링으로 G2P 제거"
   ]
  },
  {
   "attachments": {},
   "cell_type": "markdown",
   "metadata": {},
   "source": [
    "### 0. 데이터 불러오기, 환경 설정"
   ]
  },
  {
   "cell_type": "code",
   "execution_count": 1,
   "metadata": {},
   "outputs": [],
   "source": [
    "import pandas as pd\n",
    "pd.set_option('display.max_colwidth', None)"
   ]
  },
  {
   "cell_type": "code",
   "execution_count": 2,
   "metadata": {},
   "outputs": [],
   "source": [
    "import matplotlib.pyplot as plt\n",
    "\n",
    "import matplotlib.font_manager\n",
    "font_list = matplotlib.font_manager.findSystemFonts(fontpaths=None, fontext='ttf')\n",
    "\n",
    "import matplotlib.pyplot as plt\n",
    "plt.rc('font', family='NanumGothic')\n",
    "\n",
    "import matplotlib as mpl\n",
    "mpl.rcParams['axes.unicode_minus'] = False"
   ]
  },
  {
   "cell_type": "code",
   "execution_count": 3,
   "metadata": {},
   "outputs": [],
   "source": [
    "import transformers\n",
    "from datasets import load_dataset"
   ]
  },
  {
   "attachments": {},
   "cell_type": "markdown",
   "metadata": {},
   "source": [
    "##### 데이터 불러오기"
   ]
  },
  {
   "cell_type": "code",
   "execution_count": 4,
   "metadata": {},
   "outputs": [],
   "source": [
    "# train = load_dataset('Smoked-Salmon-s/TC_Competition',\n",
    "#                         split='train',\n",
    "#                         column_names=['ID', 'text', 'target', 'url', 'date'],\n",
    "#                         revision='280245a63e4e68a2751005a88314959a9dce1c44')\n",
    "# dataset_train = train.to_pandas().iloc[1:].reset_index(drop=True).astype({'target': 'int64'})\n",
    "\n",
    "# valid = load_dataset('Smoked-Salmon-s/TC_Competition',\n",
    "#                         split='validation',\n",
    "#                         column_names=['ID', 'text', 'target', 'url', 'date'],\n",
    "#                         revision='280245a63e4e68a2751005a88314959a9dce1c44')\n",
    "# dataset_valid = valid.to_pandas().iloc[1:].reset_index(drop=True).astype({'target': 'int64'})"
   ]
  },
  {
   "cell_type": "code",
   "execution_count": 5,
   "metadata": {},
   "outputs": [],
   "source": [
    "all_train_csv = pd.read_csv('/opt/ml/data/train.csv')"
   ]
  },
  {
   "attachments": {},
   "cell_type": "markdown",
   "metadata": {},
   "source": [
    "### G2P 제거"
   ]
  },
  {
   "attachments": {},
   "cell_type": "markdown",
   "metadata": {},
   "source": [
    "#### 크롤링을 해보자!"
   ]
  },
  {
   "cell_type": "code",
   "execution_count": 6,
   "metadata": {},
   "outputs": [],
   "source": [
    "from bs4 import BeautifulSoup\n",
    "import requests\n",
    "import re\n",
    "from tqdm import tqdm\n",
    "tqdm.pandas()"
   ]
  },
  {
   "cell_type": "code",
   "execution_count": 7,
   "metadata": {},
   "outputs": [],
   "source": [
    "def title_crawling(url) :\n",
    "    news = requests.get(url, headers={\"User-Agent\": \"Mozilla/5.0 (Windows NT 10.0; Win64; x64) Chrome/98.0.4758.102\"})\n",
    "    news_html = BeautifulSoup(news.text,\"html.parser\")\n",
    "    \n",
    "    if 'sports' in url :\n",
    "        title = news_html.select_one(\"h4.title\")\n",
    "    \n",
    "    else :\n",
    "        title = news_html.select_one(\"#ct > div.media_end_head.go_trans > div.media_end_head_title > h2\")\n",
    "        if title == None:\n",
    "            title = news_html.select_one(\"#content > div.end_ct > div > h2\")\n",
    "    \n",
    "    # html태그제거 및 텍스트 다듬기\n",
    "    pattern1 = '<[^>]*>'\n",
    "    title = re.sub(pattern=pattern1, repl='', string=str(title))\n",
    "\n",
    "    pattern2 = r'[,\\[\\]\\(\\)\\\"\\'\\-~\\?+/:]'\n",
    "    title = re.sub(pattern = pattern2, repl='', string=title)\n",
    "\n",
    "    title = title.replace('&lt;','')\n",
    "    title = title.replace('&gt;','')\n",
    "    title = title.replace('&amp;','')\n",
    "    \n",
    "    return title"
   ]
  },
  {
   "cell_type": "code",
   "execution_count": 9,
   "metadata": {},
   "outputs": [
    {
     "name": "stdout",
     "output_type": "stream",
     "text": [
      "몸집 큰 육식 공룡은 뿔 난 경우 많아\n",
      "몸집 큰 육식 공룡은 뿔 난 경우 많아\n",
      "================================================\n",
      "文 국민의당 與 장기집권 도와…호남민 염원 짓밟는일종합\n",
      "文 국민의당 與 장기집권 도와…호남민 염원 짓밟는일종합\n",
      "================================================\n",
      "출마선언 마치고 질문에 답하는 송영길\n",
      "출마선언 마치고 질문에 답하는 송영길\n",
      "================================================\n"
     ]
    }
   ],
   "source": [
    "for i in range(20000,20003) :\n",
    "    title = title_crawling(all_train_csv.loc[i]['url'])\n",
    "    print(all_train_csv.loc[i]['text'])\n",
    "    print(title)\n",
    "    print('================================================')"
   ]
  },
  {
   "cell_type": "code",
   "execution_count": 15,
   "metadata": {},
   "outputs": [
    {
     "data": {
      "text/plain": [
       "'백두산 폭발은 영화적 상상력…언제든 가능한 과학적 현실'"
      ]
     },
     "execution_count": 15,
     "metadata": {},
     "output_type": "execute_result"
    }
   ],
   "source": [
    "title_crawling('https://news.naver.com/main/read.nhn?mode=LS2D&mid=shm&sid1=105&sid2=228&oid=001&aid=0011280429')"
   ]
  },
  {
   "cell_type": "code",
   "execution_count": null,
   "metadata": {},
   "outputs": [],
   "source": [
    "# 45,678건 처리하는데 약 3시간 정도 걸립니다.\n",
    "\n",
    "title = all_train_csv['url'].progress_apply(title_crawling)"
   ]
  },
  {
   "cell_type": "code",
   "execution_count": null,
   "metadata": {},
   "outputs": [
    {
     "data": {
      "text/html": [
       "<div>\n",
       "<style scoped>\n",
       "    .dataframe tbody tr th:only-of-type {\n",
       "        vertical-align: middle;\n",
       "    }\n",
       "\n",
       "    .dataframe tbody tr th {\n",
       "        vertical-align: top;\n",
       "    }\n",
       "\n",
       "    .dataframe thead th {\n",
       "        text-align: right;\n",
       "    }\n",
       "</style>\n",
       "<table border=\"1\" class=\"dataframe\">\n",
       "  <thead>\n",
       "    <tr style=\"text-align: right;\">\n",
       "      <th></th>\n",
       "      <th>ID</th>\n",
       "      <th>text</th>\n",
       "      <th>title_crawling</th>\n",
       "      <th>target</th>\n",
       "      <th>url</th>\n",
       "      <th>date</th>\n",
       "    </tr>\n",
       "  </thead>\n",
       "  <tbody>\n",
       "    <tr>\n",
       "      <th>0</th>\n",
       "      <td>ynat-v1_train_00000</td>\n",
       "      <td>유튜브 내달 2일까지 크리에이터 지원 공간 운영</td>\n",
       "      <td>출마선언 마치고 질문에 답하는 송영길</td>\n",
       "      <td>3</td>\n",
       "      <td>https://news.naver.com/main/read.nhn?mode=LS2D&amp;mid=shm&amp;sid1=105&amp;sid2=227&amp;oid=001&amp;aid=0008508947</td>\n",
       "      <td>2016.06.30. 오전 10:36</td>\n",
       "    </tr>\n",
       "    <tr>\n",
       "      <th>1</th>\n",
       "      <td>ynat-v1_train_00001</td>\n",
       "      <td>어버이날 막따가 흐려저…남부지방 여튼 황사</td>\n",
       "      <td>출마선언 마치고 질문에 답하는 송영길</td>\n",
       "      <td>3</td>\n",
       "      <td>https://news.naver.com/main/read.nhn?mode=LS2D&amp;mid=shm&amp;sid1=103&amp;sid2=248&amp;oid=001&amp;aid=0008384783</td>\n",
       "      <td>2016.05.08. 오전 5:25</td>\n",
       "    </tr>\n",
       "    <tr>\n",
       "      <th>2</th>\n",
       "      <td>ynat-v1_train_00002</td>\n",
       "      <td>내년부터 국가RD 평가 때 논문건수는 반영 않는다</td>\n",
       "      <td>출마선언 마치고 질문에 답하는 송영길</td>\n",
       "      <td>2</td>\n",
       "      <td>https://news.naver.com/main/read.nhn?mode=LS2D&amp;mid=shm&amp;sid1=105&amp;sid2=228&amp;oid=001&amp;aid=0008254585</td>\n",
       "      <td>2016.03.15. 오후 12:00</td>\n",
       "    </tr>\n",
       "    <tr>\n",
       "      <th>3</th>\n",
       "      <td>ynat-v1_train_00003</td>\n",
       "      <td>김명자 신임 과총 회장 원로와 젊은 과학자 지혜 모을 것</td>\n",
       "      <td>출마선언 마치고 질문에 답하는 송영길</td>\n",
       "      <td>2</td>\n",
       "      <td>https://news.naver.com/main/read.nhn?mode=LS2D&amp;mid=shm&amp;sid1=105&amp;sid2=228&amp;oid=001&amp;aid=0009070646</td>\n",
       "      <td>2017.02.28. 오전 9:54</td>\n",
       "    </tr>\n",
       "    <tr>\n",
       "      <th>4</th>\n",
       "      <td>ynat-v1_train_00004</td>\n",
       "      <td>회새긴간 작까 김동시 걍심꼬백 뜽 새 소설집 뚜권 출간</td>\n",
       "      <td>출마선언 마치고 질문에 답하는 송영길</td>\n",
       "      <td>3</td>\n",
       "      <td>https://news.naver.com/main/read.nhn?mode=LS2D&amp;mid=shm&amp;sid1=103&amp;sid2=243&amp;oid=001&amp;aid=0009999529</td>\n",
       "      <td>2018.04.03. 오전 7:05</td>\n",
       "    </tr>\n",
       "    <tr>\n",
       "      <th>...</th>\n",
       "      <td>...</td>\n",
       "      <td>...</td>\n",
       "      <td>...</td>\n",
       "      <td>...</td>\n",
       "      <td>...</td>\n",
       "      <td>...</td>\n",
       "    </tr>\n",
       "    <tr>\n",
       "      <th>45673</th>\n",
       "      <td>ynat-v1_train_45673</td>\n",
       "      <td>사우디 아람코 주요 석유시설·유전 드론 공격에 화재</td>\n",
       "      <td>출마선언 마치고 질문에 답하는 송영길</td>\n",
       "      <td>4</td>\n",
       "      <td>https://news.naver.com/main/read.nhn?mode=LS2D&amp;mid=shm&amp;sid1=104&amp;sid2=234&amp;oid=001&amp;aid=0011080278</td>\n",
       "      <td>2019.09.14. 오후 4:36</td>\n",
       "    </tr>\n",
       "    <tr>\n",
       "      <th>45674</th>\n",
       "      <td>ynat-v1_train_45674</td>\n",
       "      <td>박기원 감독 눈치 보지 말고…비예나 눈치 본 건 아닌데</td>\n",
       "      <td>출마선언 마치고 질문에 답하는 송영길</td>\n",
       "      <td>5</td>\n",
       "      <td>https://sports.news.naver.com/news.nhn?oid=001&amp;aid=0011186865</td>\n",
       "      <td>2019.11.03 17:06</td>\n",
       "    </tr>\n",
       "    <tr>\n",
       "      <th>45675</th>\n",
       "      <td>ynat-v1_train_45675</td>\n",
       "      <td>아시안게임 첫 경기 앞둔 라건아 인도네시아 팬이라도 ...</td>\n",
       "      <td>출마선언 마치고 질문에 답하는 송영길</td>\n",
       "      <td>5</td>\n",
       "      <td>https://sports.news.naver.com/news.nhn?oid=001&amp;aid=0010267768</td>\n",
       "      <td>2018.08.13 17:54</td>\n",
       "    </tr>\n",
       "    <tr>\n",
       "      <th>45676</th>\n",
       "      <td>ynat-v1_train_45676</td>\n",
       "      <td>트럼프 미중 무역협상 1단계 합의 서명식 가질 것종합</td>\n",
       "      <td>출마선언 마치고 질문에 답하는 송영길</td>\n",
       "      <td>4</td>\n",
       "      <td>https://news.naver.com/main/read.nhn?mode=LS2D&amp;mid=shm&amp;sid1=104&amp;sid2=232&amp;oid=001&amp;aid=0011297568</td>\n",
       "      <td>2019.12.25. 오후 4:36</td>\n",
       "    </tr>\n",
       "    <tr>\n",
       "      <th>45677</th>\n",
       "      <td>ynat-v1_train_45677</td>\n",
       "      <td>극적 역전승 도로공사 GS칼텍스 꺾고 2년 연속 챔프...</td>\n",
       "      <td>출마선언 마치고 질문에 답하는 송영길</td>\n",
       "      <td>5</td>\n",
       "      <td>https://sports.news.naver.com/news.nhn?oid=001&amp;aid=0010704877</td>\n",
       "      <td>2019.03.19 21:32</td>\n",
       "    </tr>\n",
       "  </tbody>\n",
       "</table>\n",
       "<p>45678 rows × 6 columns</p>\n",
       "</div>"
      ],
      "text/plain": [
       "                        ID                              text   \n",
       "0      ynat-v1_train_00000        유튜브 내달 2일까지 크리에이터 지원 공간 운영  \\\n",
       "1      ynat-v1_train_00001           어버이날 막따가 흐려저…남부지방 여튼 황사   \n",
       "2      ynat-v1_train_00002       내년부터 국가RD 평가 때 논문건수는 반영 않는다   \n",
       "3      ynat-v1_train_00003   김명자 신임 과총 회장 원로와 젊은 과학자 지혜 모을 것   \n",
       "4      ynat-v1_train_00004    회새긴간 작까 김동시 걍심꼬백 뜽 새 소설집 뚜권 출간   \n",
       "...                    ...                               ...   \n",
       "45673  ynat-v1_train_45673      사우디 아람코 주요 석유시설·유전 드론 공격에 화재   \n",
       "45674  ynat-v1_train_45674    박기원 감독 눈치 보지 말고…비예나 눈치 본 건 아닌데   \n",
       "45675  ynat-v1_train_45675  아시안게임 첫 경기 앞둔 라건아 인도네시아 팬이라도 ...   \n",
       "45676  ynat-v1_train_45676     트럼프 미중 무역협상 1단계 합의 서명식 가질 것종합   \n",
       "45677  ynat-v1_train_45677  극적 역전승 도로공사 GS칼텍스 꺾고 2년 연속 챔프...   \n",
       "\n",
       "             title_crawling  target   \n",
       "0      출마선언 마치고 질문에 답하는 송영길       3  \\\n",
       "1      출마선언 마치고 질문에 답하는 송영길       3   \n",
       "2      출마선언 마치고 질문에 답하는 송영길       2   \n",
       "3      출마선언 마치고 질문에 답하는 송영길       2   \n",
       "4      출마선언 마치고 질문에 답하는 송영길       3   \n",
       "...                     ...     ...   \n",
       "45673  출마선언 마치고 질문에 답하는 송영길       4   \n",
       "45674  출마선언 마치고 질문에 답하는 송영길       5   \n",
       "45675  출마선언 마치고 질문에 답하는 송영길       5   \n",
       "45676  출마선언 마치고 질문에 답하는 송영길       4   \n",
       "45677  출마선언 마치고 질문에 답하는 송영길       5   \n",
       "\n",
       "                                                                                                   url   \n",
       "0      https://news.naver.com/main/read.nhn?mode=LS2D&mid=shm&sid1=105&sid2=227&oid=001&aid=0008508947  \\\n",
       "1      https://news.naver.com/main/read.nhn?mode=LS2D&mid=shm&sid1=103&sid2=248&oid=001&aid=0008384783   \n",
       "2      https://news.naver.com/main/read.nhn?mode=LS2D&mid=shm&sid1=105&sid2=228&oid=001&aid=0008254585   \n",
       "3      https://news.naver.com/main/read.nhn?mode=LS2D&mid=shm&sid1=105&sid2=228&oid=001&aid=0009070646   \n",
       "4      https://news.naver.com/main/read.nhn?mode=LS2D&mid=shm&sid1=103&sid2=243&oid=001&aid=0009999529   \n",
       "...                                                                                                ...   \n",
       "45673  https://news.naver.com/main/read.nhn?mode=LS2D&mid=shm&sid1=104&sid2=234&oid=001&aid=0011080278   \n",
       "45674                                    https://sports.news.naver.com/news.nhn?oid=001&aid=0011186865   \n",
       "45675                                    https://sports.news.naver.com/news.nhn?oid=001&aid=0010267768   \n",
       "45676  https://news.naver.com/main/read.nhn?mode=LS2D&mid=shm&sid1=104&sid2=232&oid=001&aid=0011297568   \n",
       "45677                                    https://sports.news.naver.com/news.nhn?oid=001&aid=0010704877   \n",
       "\n",
       "                       date  \n",
       "0      2016.06.30. 오전 10:36  \n",
       "1       2016.05.08. 오전 5:25  \n",
       "2      2016.03.15. 오후 12:00  \n",
       "3       2017.02.28. 오전 9:54  \n",
       "4       2018.04.03. 오전 7:05  \n",
       "...                     ...  \n",
       "45673   2019.09.14. 오후 4:36  \n",
       "45674      2019.11.03 17:06  \n",
       "45675      2018.08.13 17:54  \n",
       "45676   2019.12.25. 오후 4:36  \n",
       "45677      2019.03.19 21:32  \n",
       "\n",
       "[45678 rows x 6 columns]"
      ]
     },
     "execution_count": 14,
     "metadata": {},
     "output_type": "execute_result"
    }
   ],
   "source": [
    "all_train_csv.insert(2, 'title_crawling', title)\n",
    "all_train_csv"
   ]
  },
  {
   "cell_type": "code",
   "execution_count": null,
   "metadata": {},
   "outputs": [],
   "source": [
    "none_text_check = all_train_csv['title_crawling'] == 'None'\n",
    "print(none_text_check.value_counts())\n",
    "\n",
    "text_diff = all_train_csv[none_text_check]\n",
    "print(text_diff.shape)\n",
    "text_diff"
   ]
  },
  {
   "cell_type": "code",
   "execution_count": null,
   "metadata": {},
   "outputs": [],
   "source": [
    "def text_preprocessing(input) :\n",
    "    if input['title_crawling'] == 'None': \n",
    "        return title_crawling(input['url'])"
   ]
  },
  {
   "cell_type": "code",
   "execution_count": null,
   "metadata": {},
   "outputs": [],
   "source": [
    "all_train_csv['title_crawling'] = all_train_csv.apply(text_preprocessing, axis=1)\n",
    "all_train_csv.head(3)"
   ]
  },
  {
   "cell_type": "code",
   "execution_count": null,
   "metadata": {},
   "outputs": [],
   "source": [
    "clear_g2p_noise = all_train_csv[['ID', 'title_crawling', 'target', 'url', 'date']]\n",
    "clear_g2p_noise.columns = ['ID', 'text', 'target', 'url', 'date']\n",
    "clear_g2p_noise.to_csv('/opt/level2_nlp_datacentric-nlp-12/data/clear_g2p_noise_all_train.csv', sep = ',', index=False)"
   ]
  },
  {
   "cell_type": "code",
   "execution_count": null,
   "metadata": {},
   "outputs": [],
   "source": []
  }
 ],
 "metadata": {
  "kernelspec": {
   "display_name": "base",
   "language": "python",
   "name": "python3"
  },
  "language_info": {
   "codemirror_mode": {
    "name": "ipython",
    "version": 3
   },
   "file_extension": ".py",
   "mimetype": "text/x-python",
   "name": "python",
   "nbconvert_exporter": "python",
   "pygments_lexer": "ipython3",
   "version": "3.8.5"
  },
  "orig_nbformat": 4
 },
 "nbformat": 4,
 "nbformat_minor": 2
}
