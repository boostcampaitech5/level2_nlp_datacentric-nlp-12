{
 "cells": [
  {
   "attachments": {},
   "cell_type": "markdown",
   "metadata": {},
   "source": [
    "### 라이브러리 호출"
   ]
  },
  {
   "cell_type": "code",
   "execution_count": null,
   "metadata": {},
   "outputs": [],
   "source": [
    "import pandas as pd\n",
    "\n",
    "from post_eda import *"
   ]
  },
  {
   "attachments": {},
   "cell_type": "markdown",
   "metadata": {},
   "source": [
    "### validation prediction 경로 설정"
   ]
  },
  {
   "cell_type": "code",
   "execution_count": null,
   "metadata": {},
   "outputs": [],
   "source": [
    "# 경로 수정 !\n",
    "PATH_NEW = \"분석할 validation prediction의 경로\"\n",
    "PATH_BASE = \"비교할 validation prediction의 경로\""
   ]
  },
  {
   "attachments": {},
   "cell_type": "markdown",
   "metadata": {},
   "source": [
    "### validation prediction에 대한 분석"
   ]
  },
  {
   "cell_type": "code",
   "execution_count": null,
   "metadata": {},
   "outputs": [],
   "source": [
    "df_new = prepare_df(PATH_NEW)\n",
    "df_base = prepare_df(PATH_BASE)\n",
    "\n",
    "# df_total: 기준 validation과 새로운 validation을 비교하는 데이터프레임\n",
    "df_total = compare_df(df_new, df_base)\n",
    "\n",
    "# wrong_df: 잘못 예측한 값\n",
    "df_wrong = df_new[df_new['target'] != df_new['pred']]\n"
   ]
  },
  {
   "cell_type": "code",
   "execution_count": null,
   "metadata": {},
   "outputs": [],
   "source": [
    "# confusion matrix graph (주대각선 포함)\n",
    "cm_graph(df_new, correct=True)"
   ]
  },
  {
   "cell_type": "code",
   "execution_count": null,
   "metadata": {},
   "outputs": [],
   "source": [
    "# confusion matrix graph (주대각선 미포함)\n",
    "cm_graph(df_new, correct=False)"
   ]
  },
  {
   "cell_type": "code",
   "execution_count": null,
   "metadata": {},
   "outputs": [],
   "source": [
    "# confusion matrix dataframe\n",
    "cm_dataframe(df_new, sort_column=\"recall\")"
   ]
  },
  {
   "cell_type": "code",
   "execution_count": null,
   "metadata": {},
   "outputs": [],
   "source": [
    "# 각 label의 precision과 recall 사이의 관계\n",
    "precision_recall_graph(df_new)"
   ]
  },
  {
   "cell_type": "code",
   "execution_count": null,
   "metadata": {},
   "outputs": [],
   "source": [
    "# 전체 validation set에 대한 precision, recall, f1 score\n",
    "total_metric(df_new)"
   ]
  },
  {
   "attachments": {},
   "cell_type": "markdown",
   "metadata": {},
   "source": [
    "### 기준 validation prediction과 비교"
   ]
  },
  {
   "cell_type": "code",
   "execution_count": null,
   "metadata": {},
   "outputs": [],
   "source": [
    "compare_matrix(df_total)"
   ]
  },
  {
   "cell_type": "code",
   "execution_count": null,
   "metadata": {},
   "outputs": [],
   "source": [
    "# 개선된 부분: 현 실험에서는 맞췄지만 base에서는 틀린 데이터\n",
    "improved = df_total[(df_total['target'] == df_total['pred_new']) & (df_total['target'] != df_total['pred_base'])]\n",
    "improved"
   ]
  },
  {
   "cell_type": "code",
   "execution_count": null,
   "metadata": {},
   "outputs": [],
   "source": [
    "improved['target'].value_counts()"
   ]
  },
  {
   "cell_type": "code",
   "execution_count": null,
   "metadata": {},
   "outputs": [],
   "source": [
    "# 악화된 부분: 현 실험에서는 못맞췄지만 base에서는 맞춘 데이터\n",
    "worsen = df_total[(df_total['target'] != df_total['pred_new']) & (df_total['target'] == df_total['pred_base'])]\n",
    "worsen"
   ]
  },
  {
   "cell_type": "code",
   "execution_count": null,
   "metadata": {},
   "outputs": [],
   "source": [
    "worsen['target'].value_counts()"
   ]
  },
  {
   "cell_type": "code",
   "execution_count": null,
   "metadata": {},
   "outputs": [],
   "source": [
    "# 둘 다 틀린 부분\n",
    "both_wrong = df_total[(df_total['target'] != df_total['pred_new']) & (df_total['target'] != df_total['pred_base'])]\n",
    "both_wrong"
   ]
  },
  {
   "cell_type": "code",
   "execution_count": null,
   "metadata": {},
   "outputs": [],
   "source": [
    "# 둘 다 맞춘 부분\n",
    "both_right = df_total[(df_total['target'] == df_total['pred_new']) & (df_total['target'] == df_total['pred_base'])]\n",
    "both_right"
   ]
  }
 ],
 "metadata": {
  "kernelspec": {
   "display_name": "base",
   "language": "python",
   "name": "python3"
  },
  "language_info": {
   "codemirror_mode": {
    "name": "ipython",
    "version": 3
   },
   "file_extension": ".py",
   "mimetype": "text/x-python",
   "name": "python",
   "nbconvert_exporter": "python",
   "pygments_lexer": "ipython3",
   "version": "3.8.5"
  },
  "orig_nbformat": 4
 },
 "nbformat": 4,
 "nbformat_minor": 2
}
