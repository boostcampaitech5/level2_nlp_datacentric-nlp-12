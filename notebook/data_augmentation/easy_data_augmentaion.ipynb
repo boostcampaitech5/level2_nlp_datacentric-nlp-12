{
 "cells": [
  {
   "attachments": {},
   "cell_type": "markdown",
   "metadata": {},
   "source": [
    "## Data Augmentation\n",
    "0. 환경설정, 데이터 불러오기\n",
    "1. Easy Data Augmentation"
   ]
  },
  {
   "attachments": {},
   "cell_type": "markdown",
   "metadata": {},
   "source": [
    "#### 0. 환경설정, 데이터 가져오기"
   ]
  },
  {
   "cell_type": "code",
   "execution_count": 1,
   "metadata": {},
   "outputs": [],
   "source": [
    "import pandas as pd\n",
    "from tqdm import tqdm\n",
    "tqdm.pandas()\n",
    "pd.set_option('display.max_colwidth', None)"
   ]
  },
  {
   "cell_type": "code",
   "execution_count": 2,
   "metadata": {},
   "outputs": [],
   "source": [
    "import matplotlib.pyplot as plt\n",
    "import matplotlib.font_manager\n",
    "font_list = matplotlib.font_manager.findSystemFonts(fontpaths=None, fontext='ttf')\n",
    "# [matplotlib.font_manager.FontProperties(fname=font).get_name() for font in font_list if 'Nanum' in font]\n",
    "import matplotlib.pyplot as plt\n",
    "plt.rc('font', family='NanumGothic')\n",
    "\n",
    "import matplotlib as mpl\n",
    "mpl.rcParams['axes.unicode_minus'] = False"
   ]
  },
  {
   "cell_type": "code",
   "execution_count": 13,
   "metadata": {},
   "outputs": [
    {
     "data": {
      "text/html": [
       "<div>\n",
       "<style scoped>\n",
       "    .dataframe tbody tr th:only-of-type {\n",
       "        vertical-align: middle;\n",
       "    }\n",
       "\n",
       "    .dataframe tbody tr th {\n",
       "        vertical-align: top;\n",
       "    }\n",
       "\n",
       "    .dataframe thead th {\n",
       "        text-align: right;\n",
       "    }\n",
       "</style>\n",
       "<table border=\"1\" class=\"dataframe\">\n",
       "  <thead>\n",
       "    <tr style=\"text-align: right;\">\n",
       "      <th></th>\n",
       "      <th>ID</th>\n",
       "      <th>text</th>\n",
       "      <th>target</th>\n",
       "      <th>url</th>\n",
       "      <th>date</th>\n",
       "    </tr>\n",
       "  </thead>\n",
       "  <tbody>\n",
       "    <tr>\n",
       "      <th>0</th>\n",
       "      <td>ynat-v1_train_35704</td>\n",
       "      <td>中 관광객 신규예약 전혀 없습니다…韓 관광업계 휴폐업 직면종합</td>\n",
       "      <td>2</td>\n",
       "      <td>https://news.naver.com/main/read.nhn?mode=LS2D&amp;mid=shm&amp;sid1=103&amp;sid2=237&amp;oid=001&amp;aid=0009101194</td>\n",
       "      <td>2017.03.12. 오후 1:58</td>\n",
       "    </tr>\n",
       "    <tr>\n",
       "      <th>1</th>\n",
       "      <td>ynat-v1_train_27306</td>\n",
       "      <td>허재 농구대표팀 감독 점수 벌릴 때 못 벌려 역전 허용</td>\n",
       "      <td>5</td>\n",
       "      <td>https://sports.news.naver.com/news.nhn?oid=001&amp;aid=0009925095</td>\n",
       "      <td>2018.02.26 22:25</td>\n",
       "    </tr>\n",
       "    <tr>\n",
       "      <th>2</th>\n",
       "      <td>ynat-v1_train_30529</td>\n",
       "      <td>제3차 사행산업 건전발전 종합계획 공개 세미나</td>\n",
       "      <td>2</td>\n",
       "      <td>https://news.naver.com/main/read.nhn?mode=LS2D&amp;mid=shm&amp;sid1=102&amp;sid2=257&amp;oid=001&amp;aid=0010267313</td>\n",
       "      <td>2018.08.13. 오후 3:30</td>\n",
       "    </tr>\n",
       "    <tr>\n",
       "      <th>3</th>\n",
       "      <td>ynat-v1_train_20776</td>\n",
       "      <td>中보건당국 흑사병 주의 당부…환자 1명 위중종합</td>\n",
       "      <td>4</td>\n",
       "      <td>https://news.naver.com/main/read.nhn?mode=LS2D&amp;mid=shm&amp;sid1=104&amp;sid2=231&amp;oid=001&amp;aid=0011211873</td>\n",
       "      <td>2019.11.14. 오전 11:50</td>\n",
       "    </tr>\n",
       "    <tr>\n",
       "      <th>4</th>\n",
       "      <td>ynat-v1_train_13592</td>\n",
       "      <td>경기 북부권 8개 시·군 오존주의보 두시간만에 해제종합</td>\n",
       "      <td>3</td>\n",
       "      <td>https://news.naver.com/main/read.nhn?mode=LS2D&amp;mid=shm&amp;sid1=103&amp;sid2=248&amp;oid=001&amp;aid=0010134845</td>\n",
       "      <td>2018.06.07. 오후 7:52</td>\n",
       "    </tr>\n",
       "    <tr>\n",
       "      <th>...</th>\n",
       "      <td>...</td>\n",
       "      <td>...</td>\n",
       "      <td>...</td>\n",
       "      <td>...</td>\n",
       "      <td>...</td>\n",
       "    </tr>\n",
       "    <tr>\n",
       "      <th>31969</th>\n",
       "      <td>ynat-v1_train_26243</td>\n",
       "      <td>이스라엘 네타냐후 대연정 제안…청백당 간츠 내가 총리돼야종합</td>\n",
       "      <td>4</td>\n",
       "      <td>https://news.naver.com/main/read.nhn?mode=LS2D&amp;mid=shm&amp;sid1=104&amp;sid2=234&amp;oid=001&amp;aid=0011091544</td>\n",
       "      <td>2019.09.19. 오후 9:04</td>\n",
       "    </tr>\n",
       "    <tr>\n",
       "      <th>31970</th>\n",
       "      <td>ynat-v1_train_11049</td>\n",
       "      <td>국내 주식형 펀드 8일 만에 자금 순유출</td>\n",
       "      <td>1</td>\n",
       "      <td>https://news.naver.com/main/read.nhn?mode=LS2D&amp;mid=shm&amp;sid1=101&amp;sid2=259&amp;oid=001&amp;aid=0009902247</td>\n",
       "      <td>2018.02.19. 오전 8:08</td>\n",
       "    </tr>\n",
       "    <tr>\n",
       "      <th>31971</th>\n",
       "      <td>ynat-v1_train_28033</td>\n",
       "      <td>하나은행 DLF 손해배상 검토자료 금감원 검사 직전 삭제종합</td>\n",
       "      <td>1</td>\n",
       "      <td>https://news.naver.com/main/read.nhn?mode=LS2D&amp;mid=shm&amp;sid1=101&amp;sid2=259&amp;oid=001&amp;aid=0011157830</td>\n",
       "      <td>2019.10.21. 오후 4:24</td>\n",
       "    </tr>\n",
       "    <tr>\n",
       "      <th>31972</th>\n",
       "      <td>ynat-v1_train_00626</td>\n",
       "      <td>힐러리가 후보인데 왜 신문1면에 빌 클린턴…네티즌 갸우뚱</td>\n",
       "      <td>4</td>\n",
       "      <td>https://news.naver.com/main/read.nhn?mode=LS2D&amp;mid=shm&amp;sid1=104&amp;sid2=232&amp;oid=001&amp;aid=0008570286</td>\n",
       "      <td>2016.07.28. 오전 2:29</td>\n",
       "    </tr>\n",
       "    <tr>\n",
       "      <th>31973</th>\n",
       "      <td>ynat-v1_train_31545</td>\n",
       "      <td>이라크 공습으로 IS 고위 사령관 사망</td>\n",
       "      <td>4</td>\n",
       "      <td>https://news.naver.com/main/read.nhn?mode=LS2D&amp;mid=shm&amp;sid1=104&amp;sid2=232&amp;oid=001&amp;aid=0008107775</td>\n",
       "      <td>2016.01.10. 오후 7:10</td>\n",
       "    </tr>\n",
       "  </tbody>\n",
       "</table>\n",
       "<p>31974 rows × 5 columns</p>\n",
       "</div>"
      ],
      "text/plain": [
       "                        ID                                text  target   \n",
       "0      ynat-v1_train_35704  中 관광객 신규예약 전혀 없습니다…韓 관광업계 휴폐업 직면종합       2  \\\n",
       "1      ynat-v1_train_27306      허재 농구대표팀 감독 점수 벌릴 때 못 벌려 역전 허용       5   \n",
       "2      ynat-v1_train_30529           제3차 사행산업 건전발전 종합계획 공개 세미나       2   \n",
       "3      ynat-v1_train_20776          中보건당국 흑사병 주의 당부…환자 1명 위중종합       4   \n",
       "4      ynat-v1_train_13592      경기 북부권 8개 시·군 오존주의보 두시간만에 해제종합       3   \n",
       "...                    ...                                 ...     ...   \n",
       "31969  ynat-v1_train_26243   이스라엘 네타냐후 대연정 제안…청백당 간츠 내가 총리돼야종합       4   \n",
       "31970  ynat-v1_train_11049              국내 주식형 펀드 8일 만에 자금 순유출       1   \n",
       "31971  ynat-v1_train_28033   하나은행 DLF 손해배상 검토자료 금감원 검사 직전 삭제종합       1   \n",
       "31972  ynat-v1_train_00626     힐러리가 후보인데 왜 신문1면에 빌 클린턴…네티즌 갸우뚱       4   \n",
       "31973  ynat-v1_train_31545               이라크 공습으로 IS 고위 사령관 사망       4   \n",
       "\n",
       "                                                                                                   url   \n",
       "0      https://news.naver.com/main/read.nhn?mode=LS2D&mid=shm&sid1=103&sid2=237&oid=001&aid=0009101194  \\\n",
       "1                                        https://sports.news.naver.com/news.nhn?oid=001&aid=0009925095   \n",
       "2      https://news.naver.com/main/read.nhn?mode=LS2D&mid=shm&sid1=102&sid2=257&oid=001&aid=0010267313   \n",
       "3      https://news.naver.com/main/read.nhn?mode=LS2D&mid=shm&sid1=104&sid2=231&oid=001&aid=0011211873   \n",
       "4      https://news.naver.com/main/read.nhn?mode=LS2D&mid=shm&sid1=103&sid2=248&oid=001&aid=0010134845   \n",
       "...                                                                                                ...   \n",
       "31969  https://news.naver.com/main/read.nhn?mode=LS2D&mid=shm&sid1=104&sid2=234&oid=001&aid=0011091544   \n",
       "31970  https://news.naver.com/main/read.nhn?mode=LS2D&mid=shm&sid1=101&sid2=259&oid=001&aid=0009902247   \n",
       "31971  https://news.naver.com/main/read.nhn?mode=LS2D&mid=shm&sid1=101&sid2=259&oid=001&aid=0011157830   \n",
       "31972  https://news.naver.com/main/read.nhn?mode=LS2D&mid=shm&sid1=104&sid2=232&oid=001&aid=0008570286   \n",
       "31973  https://news.naver.com/main/read.nhn?mode=LS2D&mid=shm&sid1=104&sid2=232&oid=001&aid=0008107775   \n",
       "\n",
       "                       date  \n",
       "0       2017.03.12. 오후 1:58  \n",
       "1          2018.02.26 22:25  \n",
       "2       2018.08.13. 오후 3:30  \n",
       "3      2019.11.14. 오전 11:50  \n",
       "4       2018.06.07. 오후 7:52  \n",
       "...                     ...  \n",
       "31969   2019.09.19. 오후 9:04  \n",
       "31970   2018.02.19. 오전 8:08  \n",
       "31971   2019.10.21. 오후 4:24  \n",
       "31972   2016.07.28. 오전 2:29  \n",
       "31973   2016.01.10. 오후 7:10  \n",
       "\n",
       "[31974 rows x 5 columns]"
      ]
     },
     "execution_count": 13,
     "metadata": {},
     "output_type": "execute_result"
    }
   ],
   "source": [
    "dataset_train = pd.read_csv('/opt/level2_nlp_datacentric-nlp-12/data/train.csv')\n",
    "dataset_val = pd.read_csv('/opt/level2_nlp_datacentric-nlp-12/data/dev.csv')\n",
    "dataset_train.head(3)"
   ]
  },
  {
   "attachments": {},
   "cell_type": "markdown",
   "metadata": {},
   "source": [
    "#### 1. Easy Data Augmentation\n",
    "1. RD\n",
    "2. RS"
   ]
  },
  {
   "cell_type": "code",
   "execution_count": 7,
   "metadata": {},
   "outputs": [],
   "source": [
    "from koeda import RD,RI,SR,RS"
   ]
  },
  {
   "cell_type": "code",
   "execution_count": 9,
   "metadata": {},
   "outputs": [],
   "source": [
    "text = '성범죄영상 유통 웹하드 특별수사 靑 청원 참여 20만 넘어  '"
   ]
  },
  {
   "cell_type": "code",
   "execution_count": 10,
   "metadata": {},
   "outputs": [
    {
     "name": "stdout",
     "output_type": "stream",
     "text": [
      "성범죄영상 유통 웹하드 특별수사 靑 청원 참여 20만 넘어        ['성범죄영상 유통 웹하드 특별수사 靑 20만 넘어', '성범죄영상 유통 웹하드 특별수사 靑 청원 20만', '성범죄영상 웹하드 수사 靑 청원 참여 20만 넘어']\n"
     ]
    }
   ],
   "source": [
    "# 확률 p를 통해 문장 내에 있는 각 단어들을 랜덤하게 삭제한다.\n",
    "\n",
    "augmenter = RD(morpheme_analyzer = None)\n",
    "result = augmenter(text, p = 0.1, repetition = 3)\n",
    "print(text, '    ', result)"
   ]
  },
  {
   "attachments": {},
   "cell_type": "markdown",
   "metadata": {},
   "source": [
    "##### RD 증강"
   ]
  },
  {
   "cell_type": "code",
   "execution_count": 11,
   "metadata": {},
   "outputs": [],
   "source": [
    "# def agg_RD(input_row) :\n",
    "#     dfdf = pd.DataFrame()\n",
    "#     text = input_row['text']\n",
    "#     augmenter = RD(morpheme_analyzer = None)\n",
    "#     repetition = 2\n",
    "#     result = augmenter(text, p = 0.1, repetition = repetition)\n",
    "#     for i in range(repetition) :\n",
    "#         rd_text = result[i]\n",
    "#         dfdfdf = pd.DataFrame({'ID': [input_row['ID']],\n",
    "#                             'text': [rd_text],\n",
    "#                             'target': [input_row['target']],\n",
    "#                             'url': [input_row['url']],\n",
    "#                             'date': [input_row['date']],\n",
    "#                             })\n",
    "#         dfdf = pd.concat([dfdf,dfdfdf],ignore_index=True)\n",
    "#     return dfdf"
   ]
  },
  {
   "cell_type": "code",
   "execution_count": 14,
   "metadata": {},
   "outputs": [],
   "source": [
    "def agg_RD(input_row) :\n",
    "    dfdf = pd.DataFrame()\n",
    "    text = input_row['text']\n",
    "    augmenter = RD(morpheme_analyzer = None)\n",
    "    result = augmenter(text, p = 0.1, repetition = 1)\n",
    "    dfdfdf = pd.DataFrame({'ID': [input_row['ID']],\n",
    "                        'text': [result],\n",
    "                        'target': [input_row['target']],\n",
    "                        'url': [input_row['url']],\n",
    "                        'date': [input_row['date']],\n",
    "                        })\n",
    "    dfdf = pd.concat([dfdf,dfdfdf],ignore_index=True)\n",
    "    return dfdf"
   ]
  },
  {
   "cell_type": "code",
   "execution_count": null,
   "metadata": {},
   "outputs": [],
   "source": [
    "agg_dataframe_RD_train = pd.DataFrame()\n",
    "for i in tqdm(range(0, len(dataset_train),2)) :  # 이 부분으로 증강 비율 조절 가능\n",
    "    dfdfdf = agg_RD(dataset_train.iloc[i])\n",
    "    agg_dataframe_RD_train = pd.concat([agg_dataframe_RD_train, dfdfdf], ignore_index=True)\n",
    "agg_dataframe_RD_train"
   ]
  },
  {
   "cell_type": "code",
   "execution_count": null,
   "metadata": {},
   "outputs": [],
   "source": [
    "agg_dataframe_RD_val = pd.DataFrame()\n",
    "for i in tqdm(range(0, len(dataset_val), 2)) :  # 이 부분으로 증강 비율 조절 가능\n",
    "    dfdfdf = agg_RD(dataset_val.iloc[i])\n",
    "    agg_dataframe_RD_val = pd.concat([agg_dataframe_RD_val, dfdfdf], ignore_index=True)\n",
    "agg_dataframe_RD_val"
   ]
  },
  {
   "cell_type": "code",
   "execution_count": 21,
   "metadata": {},
   "outputs": [],
   "source": [
    "RD_agg_train = pd.concat([dataset_train, agg_dataframe_RD_train],ignore_index=True)\n",
    "RD_agg_val = pd.concat([dataset_val, agg_dataframe_RD_val],ignore_index=True)\n",
    "\n",
    "RD_agg_train = RD_agg_train.sample(frac=1).reset_index(drop=True)\n",
    "RD_agg_val = RD_agg_val.sample(frac=1).reset_index(drop=True)\n"
   ]
  },
  {
   "cell_type": "code",
   "execution_count": 23,
   "metadata": {},
   "outputs": [
    {
     "name": "stdout",
     "output_type": "stream",
     "text": [
      "(47961, 5)\n"
     ]
    },
    {
     "data": {
      "text/plain": [
       "(20556, 5)"
      ]
     },
     "execution_count": 23,
     "metadata": {},
     "output_type": "execute_result"
    }
   ],
   "source": [
    "print(RD_agg_train.shape)\n",
    "print(RD_agg_val.shape)\n"
   ]
  },
  {
   "cell_type": "code",
   "execution_count": 38,
   "metadata": {},
   "outputs": [
    {
     "data": {
      "image/png": "[encoded data removed]",
      "text/plain": [
       "<Figure size 640x480 with 1 Axes>"
      ]
     },
     "metadata": {},
     "output_type": "display_data"
    }
   ],
   "source": [
    "bar = plt.bar(RD_agg_train['target'].value_counts().index, RD_agg_train['target'].value_counts(), color = 'lightcoral')\n",
    "plt.ylim(0, 10000)\n",
    "plt.title('label_text')\n",
    "\n",
    "for rect in bar:\n",
    "    height = rect.get_height()\n",
    "    plt.text(rect.get_x() + rect.get_width()/2.0, height, '%.0f' % height, ha='center', va='bottom', size = 10)\n",
    "\n",
    "plt.show()"
   ]
  },
  {
   "cell_type": "code",
   "execution_count": 24,
   "metadata": {},
   "outputs": [],
   "source": [
    "RD_agg_train.to_csv('/opt/level2_nlp_datacentric-nlp-12/data/RD_agg_train.csv', index=False)\n",
    "RD_agg_val.to_csv('/opt/level2_nlp_datacentric-nlp-12/data/RD_agg_val.csv', index=False)"
   ]
  },
  {
   "attachments": {},
   "cell_type": "markdown",
   "metadata": {},
   "source": [
    "##### RS 증강"
   ]
  },
  {
   "cell_type": "code",
   "execution_count": 28,
   "metadata": {},
   "outputs": [
    {
     "name": "stdout",
     "output_type": "stream",
     "text": [
      "성범죄영상 유통 웹하드 특별수사 靑 청원 참여 20만 넘어        ['청원영상 유통 웹하드 특별수사 靑 성범죄 참여 20만 넘어', '성범죄영상 유통 靑 특별수사웹하드청원 참여 20만 넘어', '성범죄영상 유통 웹하드 靑 수사특별청원 참여 20만 넘어']\n"
     ]
    }
   ],
   "source": [
    "# 무작위로 문장 내에서 두 단어를 선택하고 위치를 바꾼다. 이것도 n번 반복\n",
    "\n",
    "augmenter = RS(morpheme_analyzer = None)\n",
    "result = augmenter(text, p = 0.1, repetition = 3)\n",
    "print(text, '    ', result)"
   ]
  },
  {
   "cell_type": "code",
   "execution_count": 29,
   "metadata": {},
   "outputs": [],
   "source": [
    "# def agg_RS(input_row) :\n",
    "#     dfdf = pd.DataFrame()\n",
    "#     text = input_row['text']\n",
    "#     augmenter = RS(morpheme_analyzer = None)\n",
    "#     repetition = 2ㅁ\n",
    "#     result = augmenter(text, p = 0.1, repetition = repetition)\n",
    "#     for i in range(repetition) :\n",
    "#         rd_text = result[i]\n",
    "#         dfdfdf = pd.DataFrame({'ID': [input_row['ID']],\n",
    "#                             'text': [rd_text],\n",
    "#                             'target': [input_row['target']],\n",
    "#                             'url': [input_row['url']],\n",
    "#                             'date': [input_row['date']],\n",
    "#                             })\n",
    "#         dfdf = pd.concat([dfdf,dfdfdf],ignore_index=True)\n",
    "#     return dfdf"
   ]
  },
  {
   "cell_type": "code",
   "execution_count": null,
   "metadata": {},
   "outputs": [],
   "source": [
    "def agg_RS(input_row) :\n",
    "    dfdf = pd.DataFrame()\n",
    "    text = input_row['text']\n",
    "    augmenter = RS(morpheme_analyzer = None)\n",
    "    result = augmenter(text, p = 0.1, repetition = 1)\n",
    "    dfdfdf = pd.DataFrame({'ID': [input_row['ID']],\n",
    "                        'text': [result],\n",
    "                        'target': [input_row['target']],\n",
    "                        'url': [input_row['url']],\n",
    "                        'date': [input_row['date']],\n",
    "                        })\n",
    "    dfdf = pd.concat([dfdf,dfdfdf],ignore_index=True)\n",
    "    return dfdf"
   ]
  },
  {
   "cell_type": "code",
   "execution_count": null,
   "metadata": {},
   "outputs": [],
   "source": [
    "agg_dataframe_RS_train = pd.DataFrame()\n",
    "for i in tqdm(range(0, len(dataset_train),2)) :  # 이 부분으로 증강 비율 조절 가능\n",
    "    dfdfdf = agg_RS(dataset_train.iloc[i])\n",
    "    agg_dataframe_RS_train = pd.concat([agg_dataframe_RS_train, dfdfdf], ignore_index=True)\n",
    "agg_dataframe_RS_train"
   ]
  },
  {
   "cell_type": "code",
   "execution_count": null,
   "metadata": {},
   "outputs": [],
   "source": [
    "agg_dataframe_RS_val = pd.DataFrame()\n",
    "for i in tqdm(range(0, len(dataset_val),2)) :  # 이 부분으로 증강 비율 조절 가능\n",
    "    dfdfdf = agg_RS(dataset_val.iloc[i])\n",
    "    agg_dataframe_RS_val = pd.concat([agg_dataframe_RS_val, dfdfdf], ignore_index=True)\n",
    "agg_dataframe_RS_val"
   ]
  },
  {
   "cell_type": "code",
   "execution_count": null,
   "metadata": {},
   "outputs": [],
   "source": [
    "RS_agg_train = pd.concat([dataset_train, agg_dataframe_RS_train],ignore_index=True)\n",
    "RS_agg_val = pd.concat([dataset_val, agg_dataframe_RS_val],ignore_index=True)\n",
    "\n",
    "RS_agg_train = RS_agg_train.sample(frac=1).reset_index(drop=True)\n",
    "RS_agg_val = RS_agg_val.sample(frac=1).reset_index(drop=True)\n"
   ]
  },
  {
   "cell_type": "code",
   "execution_count": null,
   "metadata": {},
   "outputs": [],
   "source": [
    "print(RS_agg_train.shape)\n",
    "print(RS_agg_val.shape)"
   ]
  },
  {
   "cell_type": "code",
   "execution_count": 40,
   "metadata": {},
   "outputs": [
    {
     "data": {
      "image/png": "[encoded data removed]",
      "text/plain": [
       "<Figure size 640x480 with 1 Axes>"
      ]
     },
     "metadata": {},
     "output_type": "display_data"
    }
   ],
   "source": [
    "bar = plt.bar(RS_agg_train['target'].value_counts().index, RS_agg_train['target'].value_counts(), color = 'lightcoral')\n",
    "plt.ylim(0, 12000)\n",
    "plt.title('label_text')\n",
    "\n",
    "for rect in bar:\n",
    "    height = rect.get_height()\n",
    "    plt.text(rect.get_x() + rect.get_width()/2.0, height, '%.0f' % height, ha='center', va='bottom', size = 10)\n",
    "\n",
    "plt.show()"
   ]
  },
  {
   "cell_type": "code",
   "execution_count": 36,
   "metadata": {},
   "outputs": [],
   "source": [
    "RS_agg_train.to_csv('/opt/level2_nlp_datacentric-nlp-12/data/RS_agg_train.csv', index=False)\n",
    "RS_agg_val.to_csv('/opt/level2_nlp_datacentric-nlp-12/data/RS_agg_val.csv', index=False)"
   ]
  },
  {
   "attachments": {},
   "cell_type": "markdown",
   "metadata": {},
   "source": [
    "##### 시도하지 않았지만 다른 방법들"
   ]
  },
  {
   "cell_type": "code",
   "execution_count": 46,
   "metadata": {},
   "outputs": [
    {
     "name": "stdout",
     "output_type": "stream",
     "text": [
      "성범죄영상 유통 웹하드 특별수사 靑 청원 참여 20만 넘어      ['성범죄영상 유통 웹하드 특별문초 靑 청원 참여 20만 넘어', '성범죄그림자 유통 웹하드 특별수사 靑 청원 참여 20만 넘어', '성범죄환상 유통 웹하드 특별수사 靑 청원 참여 20만 넘어']\n"
     ]
    }
   ],
   "source": [
    "# 문장에서 랜덤으로 stop words가 아닌 n 개의 단어들을 선택해 임의로 선택한 동의어들 중 하나로 바꾸는 기법.\n",
    "\n",
    "augmenter = SR(morpheme_analyzer = None)\n",
    "result = augmenter(text, p = 0.1, repetition = 3)\n",
    "print(text, '    ', result)"
   ]
  },
  {
   "cell_type": "code",
   "execution_count": 47,
   "metadata": {},
   "outputs": [
    {
     "name": "stdout",
     "output_type": "stream",
     "text": [
      "성범죄영상 유통 웹하드 특별수사 靑 청원 참여 20만 넘어      ['성범죄영상 유통 웹하드 특별수사 靑 청원 참여 20만 옛모습 넘어', '성범죄영상 유통 웹하드 특별수사 탐험 靑 청원 참여 20만 넘어', '성범죄 탐색 영상 유통 웹하드 특별수사 靑 청원 참여 20만 넘어']\n"
     ]
    }
   ],
   "source": [
    "# 문장 내에서 stop word를 제외한 나머지 단어들 중에서, 랜덤으로 선택한 단어의 동의어를 임의로 정한다. 그리고 동의어를 문장 내 임의의 자리에 넣는걸 n번 반복한다.\n",
    "\n",
    "augmenter = RI(morpheme_analyzer = None)\n",
    "result = augmenter(text, p = 0.1, repetition = 3)\n",
    "print(text, '    ', result)"
   ]
  }
 ],
 "metadata": {
  "kernelspec": {
   "display_name": "base",
   "language": "python",
   "name": "python3"
  },
  "language_info": {
   "codemirror_mode": {
    "name": "ipython",
    "version": 3
   },
   "file_extension": ".py",
   "mimetype": "text/x-python",
   "name": "python",
   "nbconvert_exporter": "python",
   "pygments_lexer": "ipython3",
   "version": "3.8.5"
  },
  "orig_nbformat": 4
 },
 "nbformat": 4,
 "nbformat_minor": 2
}
